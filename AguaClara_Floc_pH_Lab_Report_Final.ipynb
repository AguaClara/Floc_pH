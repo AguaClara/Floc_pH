{
  "nbformat": 4,
  "nbformat_minor": 0,
  "metadata": {
    "colab": {
      "name": "AguaClara_Floc_pH_Lab_Report_Final.ipynb",
      "provenance": [],
      "collapsed_sections": [],
      "toc_visible": true
    },
    "kernelspec": {
      "name": "python3",
      "display_name": "Python 3"
    }
  },
  "cells": [
    {
      "cell_type": "markdown",
      "metadata": {
        "id": "awle31N5ykbr",
        "colab_type": "text"
      },
      "source": [
        "# Unit Process Analysis pH, Fall 2019\n",
        "#### Justin Lee, Jena Rozanski, Rafaella Bruzual\n",
        "#### Oct 25, 2019\n"
      ]
    },
    {
      "cell_type": "markdown",
      "metadata": {
        "id": "lGzNCdLa1f38",
        "colab_type": "text"
      },
      "source": [
        "##Abstract\n",
        "Filtration within the sedimentation tank is complex and costly. Therefore, the Unit Process Operations subteams explored the effects of varying three possible factors behind the performance of the sedimentation tank in isolation: pH, floc blanket depth, and coagulant dosage. By varying these three factors individually, the subteams simplified the problem and hoped to discover a set of sedimentation tank operation parameters that would maximize the performance, or particle filtration efficiency, reduce operating costs, and reduce capital costs. The Unit Process Operations pH subteam explored the performance of a sedimentation tank as a function solely of pH, i.e. keeping the floc blanket depth and coagulant dosage constant. \n",
        "The team operated with a small scale sedimentation tank to explore how performance changes when varying pH in hopes unraveling the complexities of sedimentation tank filtration. "
      ]
    },
    {
      "cell_type": "markdown",
      "metadata": {
        "id": "TpShT1NO1jsq",
        "colab_type": "text"
      },
      "source": [
        "## Introduction\n",
        "The defining factors of the performance of the sedimentation tank is difficult to determine when all factors are considered in parallel because a slight variation in each parameter could lead to drastically different results and unexpected behavior. Moreover, a lack or excess of one parameter could lead to unsafe drinking water. This was the motivation for developing the subteams that explored the performance of the sedimentation tank as a function solely of each possible parameter. By understanding how the performance varied from changing each parameter, the subteams can provide insight for a possibly optimal combination of the three parameters for the plant scale sedimentation tank. \n",
        "\n",
        "The coating of the pH probe poses as a challenge for both the experiment and filtration plants. The pH probe will be coated with coagulant after some threshold coagulant dosage, leading to inaccurate pH measurements. Since different operating points are used for different pHs, precise measurement of the system pH is crucial to maintaining the quality of the treated water. Moreover, the coagulant itself undergoes acid/base reactions with the solution. As a result, the threshold coagulant dosage is also a function of pH, further complicating the experiment.\n",
        "\n",
        "To address the the coagulant coating, the coagulant dosage threshold was determined for the pHs of interest. With the collected thresholds, the steady state performance of the model sedimentation tank was optimized with respect to pH while maintaining a coagulant dosage below the determined thresholds and a floc blanket depth similar to the other Unit Process Analysis subteams. System data was collected throughout the duration of the experiment to determine the feasibility of the given operating parameters. The contaminant of interest was clay.\n",
        "\n",
        "\n"
      ]
    },
    {
      "cell_type": "markdown",
      "metadata": {
        "id": "4gfgHIlZ2Evd",
        "colab_type": "text"
      },
      "source": [
        "## Literature Review and Previous Work\n",
        "This particular experiment has never been done by any AguaClara subteam. However, the other Unit Process Operations subteams used a similar setup while solely varying coagulant dosage or floc blanket depth. \n",
        "\n",
        "Previous work provides a general pH range and bottom geometry design for the experiment. Optimal pH conditions for the flocculation process were determined to be around 6, 7 and 8<sup>**3**</sup>. These values were for optimal coagulant dosages.The most optimal angles for the sides of the bottom geometry were found to be 58 and 78 degrees<sup>**2**</sup>. For this particular experiment, a 58 degree angle was used for the bottom geometry side walls. \n"
      ]
    },
    {
      "cell_type": "markdown",
      "metadata": {
        "id": "a7POfNmj2Gr7",
        "colab_type": "text"
      },
      "source": [
        "##Methods\n",
        "The work for the experiment was accomplished in this order. \n",
        "\n",
        "The team first determined the possible threshold coagulant dosages given a pH within the pH range of interest. The assumption was that the threshold coagulant dosage was independent of the floc blanket height. Physically, the floc blanket height is dependent only on sedimentation tank parameters. The coagulant was varied in small, reasonable intervals to achieve an estimate of the threshold coagulant dosage. Each addition was followed by mixing the solution thoroughly and measuring the pH. If the coagulant began to coat the pH probe, the coagulant dosage recorded immediately before the final addition would be the coagulant dosage threshold for the associated pH recorded. This was repeated with varying starting target pHs (5,6,7,8) to possibly determine a trend for coagulant dosage threshold vs pH and develop a sense for a reasonable coagulant dosage for the system running at a certain pH.\n",
        "\n",
        "The Unit Process Operations subteams needed a way to model the sedimentation tank at a small scale. The apparatus modeling the sedimentation tank was developed from mimicking the apparatus used within High Rise Bottom Geometry team <sup>**2**</sup>. The flocculator and small scale sedimentation tank were constructed with coordination with other UPA subteams, developing nearly identical apparatuses and thereby minimizing errors due to model variation. The bottom geometry of the sedimentation tank, also from the High Rise Bottom Geometry, was 3D printed and completed the development of the two main components for the system.\n",
        "\n",
        "<p align=\"center\">\n",
        "<img src=https://raw.githubusercontent.com/AguaClara/Floc_pH/master/Tube%20Settler.png alt= Tube Settler align=\"center\"/>\n",
        "</p>\n",
        "<p align=\"center\">\n",
        "<strong>Figure 1:</strong> Tube Settler used within experiments with dimensions \n",
        "</p>\n",
        "\n",
        "A blueprint of the system was developed and guided the construction of our system. Five ProCoda controlled pumps were used for this experimental design: a water pump, clay pump, coagulant pump, acid/base pump, and waste pump. ProCoda was crucial in optimizing the data collection process and minimizing human error within the process control. ProCoda recorded data and controlled the rate that the pumps pumped the solutions into systems , effectively maintaining the desired system pH, coagulant concentration, clay concentration, and flow rate. The coagulant dosage used was below the estimated threshold for the target pH and reduced the settled water turbidity to below 3 NTU. The influent turbidity was at 100 NTU and the upflow velocity of the system was 2 mm/s. To reach these desireable parameters, PID control was used within ProCoda and the PID terms were optimized until the control was fully functional. \n",
        "\n",
        "The system deals with a carbonate system and requires more mathematical rigor. To account for the carbonate system, the Acid Neutralizing Capacity of tap water was first determined using ProCoda by developing and analyzing Gran Plots. After receiving an error of less than 0.1 mL of titrant, the data was plugged to a Python script to determine the amount of acid or base needed to adjust the pH to our target pHs. The stock solutions were developed with concentrations that would allow our pump to deliver the required flows to achieve the system pH while allowing the system to run for a long period of time (at least 1 day). \n",
        "\n",
        "The steady state performance of the system at each pH was measured and data points past the steady state performance provide information on how feasible or how long the process can run without breaking down. The data was plotted and analyzed hoping to lead to a relationship between pH and performance and a possible performance maximization point. Observations about floc formation and floc blanket formation were recorded at different pHs in hopes of discovering some interesting behavior.\n",
        "\n"
      ]
    },
    {
      "cell_type": "markdown",
      "metadata": {
        "id": "ToB7a10c8Ubg",
        "colab_type": "text"
      },
      "source": [
        "## Experimental Apparatus\n",
        "[//]: <> (Describe your apparatus and justify every decision you made and every parameter you chose in its design. Explain your apparatus setup using enough detail such that future teams can recreate it.)\n",
        "This is the experimental setup for our apparatus. It contains four different streams of water, coagulant, stock solution of acid/base, and stock solution of clay flowing from their respective pumps. The clay and water streams are combined and flow through the influent turbidimeter. The out stream of the influent turbidimeter is combined with the coagulant and acid/base stock streams and sent through the flocculator with a pressure sensor connected in parallel. This pressure sensor is included to get an idea for the headloss within the system. The headloss will determine the feasability of this system for the AguaClara sedimentation tank. The flocculator effluent flows into the sedimentation tank and splits into the floc weir and sedimentation tank effluent stream. The sedimentation tank effluent flows into the effluent turbidimeter and the floc weir stream is pumped by the waste pump into the effluent turbidimeter effluent stream. The waste pump was placed in the current location to prevent competing flows within the system. The pH of the waste stream is measured and sent to waste.\n",
        "  \n",
        "\n",
        "\n",
        "   [//]: <> (* Clearly labeled components, flow paths, sensors, and reactor geometry.)\n",
        "\n",
        "  <p align=\"center\">\n",
        "    <img src=\"https://raw.githubusercontent.com/AguaClara/Floc_pH/master/pH%20Blueprint.JPG\" height = \"400\">\n",
        "  </p>\n",
        "\n",
        "  <p align=\"center\">\n",
        "    <strong>Figure 1.</strong> Above is the schematic for the experimental setup\n",
        "  </p>\n",
        "\n",
        "\n",
        "\n",
        "\n",
        "  <p align=\"center\">\n",
        "    <img src=\"https://raw.githubusercontent.com/AguaClara/Floc_pH/94e75f678f474989fb9370ad50d161103d9585f7/Screen%20Shot%202019-11-03%20at%201.13.19%20PM.png\" height=\"300\">\n",
        "  </p>\n",
        "  <p align=\"center\">\n",
        "    <strong>Figure 2.</strong> Above is an image of the experimental setup for the first test run of the experiment.\n",
        "  </p>\n",
        "  <p align=\"center\">\n",
        "  <img src=\"https://raw.githubusercontent.com/AguaClara/Floc_pH/master/Updated%20Lab%20Setup.png\" height=\"300\">\n",
        "  </p>\n",
        "  <p align=\"center\">\n",
        "    <strong>Figure 3.</strong> Above is the updated version of the experimental apparatus.\n",
        "  </p>\n",
        "\n"
      ]
    },
    {
      "cell_type": "markdown",
      "metadata": {
        "id": "14QXCacy8axM",
        "colab_type": "text"
      },
      "source": [
        "## Procedure\n",
        "\n",
        "\n",
        "1.   Use the Python code to find the exact concentration of acid or base and coagulant to add to the system for the target pH. Ensure that the coagulant dosage is well below the estimated threshold. \n",
        "2.   Determine whether the calculated concentrations are feasible for an experiment that lasts for at least 24 hours. Infeasible concentrations are those that require the pump to have impossible rpms. \n",
        "3.   Repeat 1-2 until the concentrations of the stock solution are feasible.\n",
        "4.   Use ProCoda with the given method file to run the \"Warm-Up\" phase which runs water through the system for approximately 10-30 minutes or until the influent turbidity is roughly equal to effluent turbidity\n",
        "5.   Begin the running phase of the experiment which includes all the streams within the experimental apparatus. Ensure that the system is running with no leaks and the pumps, turbidimeter, and pH probe are communicating with ProCoda.\n",
        "6.   Observe the flocculation and floc blanket formation. Leaving the lab is okay once the floc blanket is formed and observations are recorded. Regular check ups on the experiment are important and should be done a few hours prior to the Python predicted system runtime. \n",
        "7.    Save the data and analyze the data using Python."
      ]
    },
    {
      "cell_type": "markdown",
      "metadata": {
        "id": "_Nn9zXKc-Fjq",
        "colab_type": "text"
      },
      "source": [
        "## Results and Analysis\n",
        "The baseline control exerpiment was ran using a printed insert and was set at a 2mm/s upflow velocity. This velocity was in agreement with all of the other teams within the unit Process Analysis Subteams. This upflow velocity is espeically important as it affects the sedimentation in the tube settler and has the potential to cause issuses encountered with gelling and effulent turbitity calculations.\n",
        "\n",
        "In addition, high sedimentation (HRS) have also stressd the importance of implementing PID control when using their PrCoda methods. In the experiment PID control is the state used to run the experments , stabilizing the the clay pump tokeep the infulent turbitiy stable at 100NTU. This is especially important as it is the standardized influent turbidity that is used for the AguaClara Sedimentation tanks. Also, it must be noted that the amount of clay kept constant at 40RMP.\n",
        "\n",
        "The results of the experiment showed that not having PID control clay stock in the experiment led to an excess of clay entering the system. This in turn increased the gelling in the tube settler.In additon, the experiment also showed that there were air bubbles pumped into the tube setttler, and this is due to the lack of clay stock. During the 24 hour period, when the team was not there it is hyporthesized that the clay stock may have ran out permaturely. This however does not affec the pumps as they ran without clay stock, resulting in air being pumped into the system.The presence of air bubbles within the system is also not ideal as it decreases the efficency of sedimenation, pushing the a water- sludge mixture upwards leaving no room for it to settle. \n",
        "\n",
        "Figure 4. shows the effluent turbity KEPT Constant at a measuremnt of 95NTU for the first 3 hours. It must also be noted that the there are two drastic increasee of the turbitity at the 10th and 11th hour. As stated perviosuly, this is due the presence of air bubles in the system. \n",
        "After the 23rd hour, there is a pheomenal decrease in the effluent turbidiy to about 30NTU, and then remained there for the remained of the experiment. It is also hypothesized that if the experiment were to last a couple more hours this would have led to the decay of the floc blanket which would have led to an exponential increase in effluent turbitity. \n",
        "Lastly, it should also be noted that the turbity did not stabilze to 10NTU, which was the targeted value. This is hypothesized to be due to the lack of control of the amount of clay pumped into the system. Finally, since new pumps were used, they has been a revison of the ProCoda methods that works in harmony with the new appartus. \n",
        "\n",
        " <p align=\"center\">\n",
        "   <img src=\"https://raw.githubusercontent.com/AguaClara/Floc_pH/master/Baseline%20WO%20PID.png\">\n",
        " </p>\n",
        "\n",
        " <p align=\"center\">\n",
        " <strong>Figure 4.</strong> The 1st baseline experiment shows the effluent turbidity over a 24 hour time period.\n",
        " </p> \n"
      ]
    },
    {
      "cell_type": "markdown",
      "metadata": {
        "id": "Me12TWjY-Iys",
        "colab_type": "text"
      },
      "source": [
        "## Conclusions\n",
        "An experiment varying the pH of the water in the system has not yet been completed. The experiment that was ran was a baseline experiment that ran water through the system with clay and coagulant without varying the pH of the water. It was predicted that the system would reach steady state and the effluent turbidity would be equal to the influent turbidity. The results of this experiment do not match what was predicted. Originally, there was gelling in the floc weir which could have effected this. There were also leaks at the begining of the experiment that could have resulted in a loss of pressure in the tubing not allowing the flocs to exit the system. The main reason for the gelling in the apparatus was because of air bubbles in the system that entered through one of the stock solutions. "
      ]
    },
    {
      "cell_type": "markdown",
      "metadata": {
        "id": "uQBlaQNP-VJA",
        "colab_type": "text"
      },
      "source": [
        "## Future Work\n",
        "[//]: <> (Describe your plan of action for the next several weeks of research. Detail the next steps for this team. How can AguaClara use what you discovered for future projects? Your suggestions for challenges for future teams are most welcome. Should research in this area continue?)\n",
        "\n",
        "Although the project was incomplete, the team made significant progress in laying down the foundations for this experiment. A blueprint for the experimental appratus, flocculator, and sedimentation tank were crucial components and one of the most challenging aspects of this experiment. With a well formulated plan for these components, experiments similar to this can be easily reproducible for future subteams within AguaClara. \n",
        "\n",
        "The threshold coagulant dosages, effects of pH on coagulant, measurement of sed tank perfomance, and system pH measurement were the final goals the group had to accomplish. Along with building the appratus successfully, ProCoda was successfully debugged and debugging the process became easier after understanding why ProCoda made errors. The method files are easily transferrable to other experiments and the mistakes and tricks learned to fix a lot of errors made this semester could be useful to new members of AguaClara. \n",
        "Accomplishing these final goals, whether or not intriguing data was collected, would be an achievement that will provide the team with experience for possible future projects. \n",
        "\n",
        "Research within the area should continue because the experiments were missing a lot of relevant literature work. With this new data and measurement of performance in isolation of possible factors, the team hopes to provide useful information to uncover the mysteries of filtration and improve water filtration in general. "
      ]
    },
    {
      "cell_type": "markdown",
      "metadata": {
        "id": "ZXUik5SH-YFM",
        "colab_type": "text"
      },
      "source": [
        "## Bibliography\n",
        "1. Logan, B. E., Hermanowicz, S. W., & Parker,A. S. (1987). A Fundamental Model for Trickling Filter Process Design. Journal (Water Pollution Control Federation), 59(12), 1029–1042.\n",
        "\n",
        "2. Lee, M., Benitez,L. (2019, April). Spring 2019 Reports. Retrieved from:\n",
        "https://github.com/AguaClara/HRS-Bot-Geo/blob/master/2019%20Spring/Reports/HRSBotGeo2FinalReportDraft.md\n",
        "\n",
        "3. V. Saritha, N. Srinivas, N. V. Srikanth Vuppala. (2014, May). Analysis and optimization of coagulation and flocculation process. \n",
        "\n",
        "4. Benitez,B., Rio,A., Reed, T.(2019,October). Floc Blanket Reports. Retrieved from:https://github.com/AguaClara/team_resources "
      ]
    },
    {
      "cell_type": "markdown",
      "metadata": {
        "id": "EvBA8kN4-dty",
        "colab_type": "text"
      },
      "source": [
        "# Manual\n"
      ]
    },
    {
      "cell_type": "markdown",
      "metadata": {
        "id": "yfoW16_iACYt",
        "colab_type": "text"
      },
      "source": [
        "## Fabrication Details\n",
        "The Sedimentation Tank was created by first taking a long strip of PVC Pipe. This pipe was then meeasure to be about 85cm in length, Then by using a recirpocating saw, the PVC was cut to the desired amount. Next, the hold for the floc weir was drilled into the sedimentation tank (sed tank) using the drill press. Next, the sed tank was bent to  a 60 degree angle by using a hot air gun. This was done over a 2 hour period, where the gun was focused to the middle of the sed tank, where the above measurement of the tub settler was 36.12cm and the bottom measurement of the tube settler was about 48.15cm. Lasltly, the floc weir was attached to the sed tank using PVC cement. The Floc weir is a pvc pipe measured to be around 35.90cm. The measurements of the sedimentation tank were modeled from perivous sub teams, no new revisons were made.\n",
        "\n",
        "\n",
        "Include any information related to the fabrication of equipment, technologies, or experimental apparatuses, such as\n",
        "\n",
        "* materials, with dimensions\n",
        "* fabrication methods and the purpose of each step\n",
        "* complications and constraints in construction\n",
        "* revisions made to a previous design, with a reference to the report where the design is described\n",
        "* appropriate safety precautions"
      ]
    },
    {
      "cell_type": "markdown",
      "metadata": {
        "id": "sTvHso03AGO_",
        "colab_type": "text"
      },
      "source": [
        "## Special Components\n",
        "A bottom geometry is a 3-D printed piece that sits at the bottom of the tube settler in a flocculator system. The shape of the bottom geometry allows for the flocs be pushed to the top and move over into the floc weir instead of settling at the bottom of the tube settler. \n",
        "\n",
        "When the bottom geometry was first used, it would float up with the water as it was added to the system. In attempt to fix this problem, a new bottom geometry was printed using a material that is not pourous. However, the bottom geometry still floated to the top of the tube settler. Finally, tape was wrapped around the bottom of the bottom geometry to keep it in place. Though the top part of the bottom geometry was dammaged when 3-D printing, the effectiveness of it was not affected because the fluid will flow correctly through it and into the tube settler. \n",
        "  <p align=\"center\">\n",
        "  <img src=\"https://raw.githubusercontent.com/AguaClara/Floc_pH/master/Bottom%20Geometry.jpeg\" height=\"300\">\n",
        "  </p>\n",
        "  <p align=\"center\">\n",
        "    <strong>Figure 1.</strong> Above is a photo of the bottom geometry.\n",
        "  </p>"
      ]
    },
    {
      "cell_type": "markdown",
      "metadata": {
        "id": "loq2DmszAKf2",
        "colab_type": "text"
      },
      "source": [
        "## Experimental Methods"
      ]
    },
    {
      "cell_type": "markdown",
      "metadata": {
        "id": "GOe3xI0qAdfk",
        "colab_type": "text"
      },
      "source": [
        "### Experiment\n",
        "1. Make sure there are no leaks or blockages\n",
        "2. Make sure that all turbidimeters are assembled properly\n",
        "3. Fill clay, acid/base, and coagulant stock solutions\n",
        "4. Turn on all pumps turbidimeters and Procoda\n",
        "5. Run the experiment using Procoda for approximately 24 hours reading the pH of the solution throughout.\n",
        "6. Clean up and save data in Procoda "
      ]
    },
    {
      "cell_type": "markdown",
      "metadata": {
        "id": "cv06b20oAj1G",
        "colab_type": "text"
      },
      "source": [
        "### Cleaning Procedure\n",
        "1. Make sure there is nothing left on the lab bench \n",
        "2. Close influent and effluent water valves\n",
        "3. Remove the tubing from the bottom of the sedimentation tank to drain the water from the system\n",
        "4. Turn water valves back on to run water through the system until the effluent turbidimeter reads 1 NTU\n",
        "5. Turn off pumps and turbidimeters and clean them based on the AguaClara Tutorial"
      ]
    },
    {
      "cell_type": "markdown",
      "metadata": {
        "id": "BiTsuHFrGAm5",
        "colab_type": "text"
      },
      "source": [
        "## ProCoDA Setup\n",
        "\n",
        "\n"
      ]
    },
    {
      "cell_type": "markdown",
      "metadata": {
        "id": "Ks6ALZO2GH_E",
        "colab_type": "text"
      },
      "source": [
        "### Set Points\n",
        "Below are the set points for our experiment and the values used when running the baseline experiment. \n",
        "\n",
        ">Set Point | Setting\n",
        ">--- | ---\n",
        ">Turb Target | 100\n",
        ">P | 2.25m\n",
        "I | 640m\n",
        "D\t| 0\n",
        "Influent turbidity ID|\t1\n",
        "Effluent turbidity ID|\t2\n",
        "Floc removal time|\t10\n",
        "Run time|\t3590\n",
        "Fast pump|\t0.5\n",
        "Normal pump|\t0.12\n",
        "\n"
      ]
    },
    {
      "cell_type": "markdown",
      "metadata": {
        "id": "LaELphDxGIE-",
        "colab_type": "text"
      },
      "source": [
        "## Python Code\n",
        "\n"
      ]
    },
    {
      "cell_type": "markdown",
      "metadata": {
        "id": "uNiQXErgGRg7",
        "colab_type": "text"
      },
      "source": [
        "### Code for Figure 3\n",
        "\n",
        "\n",
        "\n",
        "Below is the code used to create the graph for Figure 4 in the Results and Analysis section.\n",
        "\n"
      ]
    },
    {
      "cell_type": "code",
      "metadata": {
        "id": "Cq2qbVl1GpO3",
        "colab_type": "code",
        "colab": {}
      },
      "source": [
        "!pip install aguaclara"
      ],
      "execution_count": 0,
      "outputs": []
    },
    {
      "cell_type": "code",
      "metadata": {
        "id": "eEpWjBkIGjOa",
        "colab_type": "code",
        "colab": {}
      },
      "source": [
        "import aguaclara as ac\n",
        "from aguaclara.play import*\n",
        "import matplotlib.pyplot as plt\n",
        "\n",
        "path = 'https://raw.githubusercontent.com/AguaClara/Floc_Blanket/master/Raw%20Data/datalog%2011-23-2019.tsv'\n",
        "path2 = 'https://raw.githubusercontent.com/AguaClara/Floc_Blanket/master/Raw%20Data/datalog%2011-24-2019.tsv'\n",
        "start = 0\n",
        "time = ac.column_of_time(path, start).to(u.hour)\n",
        "time2 = ac.column_of_time(path2, start).to(u.hour) + time[-1]\n",
        "effluent_turbidity = ac.column_of_data(path, start, 2, units='NTU')\n",
        "effluent_turbidity2 = ac.column_of_data(path2, start, 2, units='NTU')\n",
        "\n",
        "plt.plot(time, effluent_turbidity, \"bo\", markersize =5)\n",
        "plt.plot(time2, effluent_turbidity2, \"bo\", markersize =5)\n",
        "\n",
        "plt.xlabel(\"Time (hr)\")\n",
        "plt.ylabel(\"Effluent Turbidity (NTU)\")\n",
        "plt.ylim(bottom=0)\n",
        "#plt.xlim(left=20)\n",
        "plt.title('Baseline Experiment Without PiD')"
      ],
      "execution_count": 0,
      "outputs": []
    }
  ]
}