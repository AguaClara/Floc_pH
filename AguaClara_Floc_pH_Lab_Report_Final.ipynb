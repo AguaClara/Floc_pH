{
  "nbformat": 4,
  "nbformat_minor": 0,
  "metadata": {
    "colab": {
      "name": "AguaClara_Floc_pH_Lab_Report_Final.ipynb",
      "provenance": [],
      "collapsed_sections": [],
      "toc_visible": true,
      "include_colab_link": true
    },
    "kernelspec": {
      "name": "python3",
      "display_name": "Python 3"
    }
  },
  "cells": [
    {
      "cell_type": "markdown",
      "metadata": {
        "id": "view-in-github",
        "colab_type": "text"
      },
      "source": [
        "<a href=\"https://colab.research.google.com/github/AguaClara/Floc_pH/blob/master/AguaClara_Floc_pH_Lab_Report_Final.ipynb\" target=\"_parent\"><img src=\"https://colab.research.google.com/assets/colab-badge.svg\" alt=\"Open In Colab\"/></a>"
      ]
    },
    {
      "cell_type": "markdown",
      "metadata": {
        "id": "awle31N5ykbr",
        "colab_type": "text"
      },
      "source": [
        "# Unit Process Analysis pH, Fall 2019\n",
        "#### Justin Lee, Jena Rozanski, Rafaella Bruzual\n",
        "#### Oct 25, 2019\n"
      ]
    },
    {
      "cell_type": "markdown",
      "metadata": {
        "id": "lGzNCdLa1f38",
        "colab_type": "text"
      },
      "source": [
        "##Abstract\n",
        "The Unit Process Operations pH subteam wanted to explore the performance of the AguaClara sedimentation tank as a function of pH. Filtration within the sedimentation tank is complex and the performance is often a factor of floc blanket. When the coagulant dosage exceeds a certain amount, the pH probe will be coated with coagulant, leading to inaccurate pH measurements within the plant. Therefore, the team wanted to determine this coagulant dosage and use that value as the constant coagulant dosage for all experimental trials. The team hopes to use this information to uncover new insights on how filtration performance changes in different pH ranges."
      ]
    },
    {
      "cell_type": "markdown",
      "metadata": {
        "id": "TpShT1NO1jsq",
        "colab_type": "text"
      },
      "source": [
        "## Introduction\n",
        "The performance of the AguaClara plant sed system most likely depends on three factors: pH, floc blanket depth, and coagulant dosage. However, the performance is difficult to measure when all factors are considered because a slight variation in each parameter could lead to drastically different and unexpected behavior. Moreover, a lack or excess of one parameter could lead to undrinkable water. This was the motivation for developing three subteams that explore the performance of the sed tank as a function of each parameter. By understanding how performance varies with each of these parameters, the subteams can provide insight for a possibly optimal combination of the three parameters for the plant scale and uncover ones of the mysteries in filtration. For the pH team, the challenge was that the pH probe can be easily coated with coagulant due to the relatively high dosages at the plant scale. Therefore, the team measured the steady state performance of the apparatus as a function of pH while keeping the coagulant dosage and floc blanket depth constant.  The flocculator and sed tank  used within the experiment was nearly identical to the ones used in the experiments varying coagulant dosage, and floc blanket depth, making pH the only variable within our system. ProCoDa and Python were used to develop stock solutions of acid or base and coagulant that would allow us to reach target pHs. A peristaltic pump automated the addition of acid stock solutions and aided in maintaining these target pH levels. \n",
        "\n"
      ]
    },
    {
      "cell_type": "markdown",
      "metadata": {
        "id": "4gfgHIlZ2Evd",
        "colab_type": "text"
      },
      "source": [
        "## Literature Review and Previous Work\n",
        "This experiment has never been performed before by any AguaClara subteam; however, some subteams have worked on similar projects with the same setup. These teams instead varried the coagulant dosage or floc blanket depth in their experiments. In the \"Analysis and optimization of coagulation and flocculation process\" , optimal pH conditions were determined to be around 6, 7 and 8. These values were found by varying the coagulant dosages and finding the pH (V. Saritha, N. Srinivas, N. V. Srikanth Vuppala). \n",
        "\n",
        "The bottom geometry to be used for the tube settler was determined by previous High Rate Sedimentation teams. The most optimal angles for the sides of the bottom geometry were found to be 58 and 78 degrees. For this particular experiment, a 58 degree angle was used for the bottom geometry side walls. \n",
        "\n",
        "The High Rate Sedimentation team from Spring 2019 would run their experiments in intervals of 24 hours. This allowed for a steady state of the system to be reached where the influent turbidity was equal to the effluent turbidity. However, this approach was not effective because flocs would be stuck at the bottom which resulted in effective gelling which hinders the performance of the system. \n"
      ]
    },
    {
      "cell_type": "markdown",
      "metadata": {
        "id": "a7POfNmj2Gr7",
        "colab_type": "text"
      },
      "source": [
        "##Methods\n",
        "[//]: <> (Explain the techniques you have used to acquire additional data and insights. Reserve fine detail for the Manual at the end of the report, but use this section to give an overview with enough detail for the reader to understand your Results and Analysis. Be especially careful to detail the conditions your experiments were conducted under, as this information is especially important for interpreting your results.\n",
        "\n",
        "Below, some example sections are given. Sectioning the report is meant to keep similar information together.  Continue making sections as necessary, or delete sections if you do not need them. Feel free to add subsubsections to further delineate the information. For example, under the Experimental Apparatus section below, the EStaRS team might consider having sections such as \"Filter Design\" and \"Filter Fabrication\".)\n",
        "\n",
        "To test the performance of a flocculator system with respect to varying pH, it is important to note that four pumps are needed for each of the following: the tap water, the water with pH adjustments, the water with coagulant, and the clay mixture (the impurity being filtered). Upflow velocity of 1 milimeter per second should be implemented in the design as well as 100 NTU of clay. The flocculator used must have a Gt of 37,000 and approximately a 50 cm headloss.\n",
        "Understanding how the three factors affect the systems simulataneously requires us to first understand how each factor indiviudally affects these systems. We used a coagulant dosage that will give a settled water turbidity of less than 3 NTU when using tap water that has not been pH adjusted. To test the performance of a flocculator system with respect to varying pH, it is important to note that four pumps are needed for each of the following: the tap water, the water with pH adjustments, the water with coagulant, and the clay mixture (the impurity being filtered). Upflow velocity of 1 milimeter per second should be implemented in the design as well as 100 NTU of clay. The flocculator used must have a Gt of 37,000 and approximately a 50 cm headloss. The tube settler that we are using will be of this shape.\n",
        "\n",
        "![Tube Settler](https://raw.githubusercontent.com/AguaClara/Floc_pH/master/Tube%20Settler.png) \n",
        "<p align=\"center\">\n",
        "\n",
        "**Figure 1:** Tube Settler used within experiments with dimensions \n",
        "\n",
        "Our system deals with a carbonate system and requires more mathematical rigor than creating stock solutions with the target pH. To account for the carbonate system, we first determined the Acid Neutralizing Capacity of tap water using ProCoda and developing and analyzing Gran Plots. After receiving a low error (less than 0.1 mL of titrant), we use this data and plug them within equations in a Python script and determined the amount of acid or base needed to adjust the pH to our target pHs: 5,6,7,8. We then developed stock solutions with concentrations that would allow our pump to deliver the required flows to cover the target pH range. The steady state performance of the system at each pH was measured and extra data points would be considered to provide a more information on pH vs performance. The data was then plotted and analyzed hoping to lead to a relationship between pH and performance and a possible performance maximization point. Observations about floc formation and floc blanket formation were recorded at different pHs in hopes of discovering some interesting behavior.\n"
      ]
    },
    {
      "cell_type": "markdown",
      "metadata": {
        "id": "ToB7a10c8Ubg",
        "colab_type": "text"
      },
      "source": [
        "## Experimental Apparatus\n",
        "[//]: <> (Describe your apparatus and justify every decision you made and every parameter you chose in its design. Explain your apparatus setup using enough detail such that future teams can recreate it.)\n",
        "This is the experimental setup for our apparatus. It containts four different streams of water, coagulant, stock solution of acid/base, and stock solution of clay going into their respective pumps. After these streams are all combined, this new stream is sent through the influent turbidimeter. Then the stream is sent through the flocculator with a pressure sensor connected in parallel. This pressure sensor is included because if the pressure is not great enough and there is headloss, flocculation will be much less effective. Monitoring the pressure throughout the flocculation process allows for making sure the water pressure is enough to make it through the flocculator. It is also important to not have too high of pressure because high pressure can result in equiment malfuncitoning. Afterwards the stream effluent of the flocculator is split into a bypass stream that mixes with the stream effluent of the floc weir and a stream going into the sedimentation tank. The stream exiting the sedimentation tank is split into a bypass and a stream that runs through the effluent turbidimeter. The bypasses are added to prevent a buildup of impurities in the system. Afterwards the pH is measured and the rest of the water runs through the waste pump. \n",
        "  \n",
        "\n",
        " * Schematic drawing\n",
        "   [//]: <> (* Clearly labeled components, flow paths, sensors, and reactor geometry.)\n",
        "\n",
        "  <center>\n",
        "    <img src=\"https://raw.githubusercontent.com/AguaClara/Floc_pH/94e75f678f474989fb9370ad50d161103d9585f7/pH%20Blueprint.JPG\" height = \"400\">\n",
        "  </center>\n",
        "\n",
        "  <center>\n",
        "    Figure 1. Above is the schematic for the experimental setup\n",
        "  </center>\n",
        "\n",
        "\n",
        "\n",
        "\n",
        "  <center>\n",
        "    <img src=\"https://raw.githubusercontent.com/AguaClara/Floc_pH/94e75f678f474989fb9370ad50d161103d9585f7/Screen%20Shot%202019-11-03%20at%201.13.19%20PM.png\" height=\"300\">\n",
        "  </center>\n",
        "  <center>\n",
        "    Figure 2. Above is an image of the experimental setup for the first test run of the experiment.\n",
        "  </center>\n",
        "  <img src=\"https://raw.githubusercontent.com/AguaClara/Floc_pH/master/Updated%20Lab%20Setup.png\" height=\"300\">\n",
        "  </center>\n",
        "  <center>\n",
        "    Figure 3. Above is the updated version of the experimental apparatus.\n",
        "  </center>\n",
        "\n",
        " [//]: <> (| Label | Component             | Label | Component             |\n",
        "  |:-----:|:--------------------- |:-----:|:--------------------- |\n",
        "  |   1   | Water Pump            |   8   | Effluent Turbidimeter |\n",
        "  |   2   | Clay Pump             |   9   | Pressure Attenuator   |\n",
        "  |   3   | Coagulant Pump        |  10   | Coagulant Stock       |\n",
        "  |   4   | Waste Pump            |  11   | Clay Stock            |\n",
        "  |   5   | Flocculator           |  12   | Sedimentation Tank    |\n",
        "  |   6   | Pressure Sensor       |  13   | Waste Tube            |\n",
        "  |   7   | Influent Turbidimeter |       |                       |)"
      ]
    },
    {
      "cell_type": "markdown",
      "metadata": {
        "id": "14QXCacy8axM",
        "colab_type": "text"
      },
      "source": [
        "## Procedure\n",
        "Discuss your experimental procedure. How did you run your experiment? What were you testing? What were the values of relevant parameters?\n",
        "\n",
        "This experiment begins with a warm up phase that runs the experiment for approximately 10-30 minutes or until it reaches steady state when the influent turbidity is equal to effluent turbidity. The next step is to use the python code to find the exact concentration of acid or base to add and then actually add this amount of acid or base. Then the experiment should run for approximately 24 hours or until the stock solutions are depleated. Regular check ups on the experiment are next. \n"
      ]
    },
    {
      "cell_type": "markdown",
      "metadata": {
        "id": "_Nn9zXKc-Fjq",
        "colab_type": "text"
      },
      "source": [
        "## Results and Analysis\n",
        "The baseline control exerpiment was ran , using a printed insert and was set at a 2mm/s upflow velocity. This velocity was in agreement with all of the other teams within the unit Process Analysis Subteams. This upflow velocity is espeically important as it affects the sedimentation in the tube settler and has the potential to cause issuses encountered with gelling and effulent turbitity calculations.\n",
        "\n",
        "In addition, high sedimentation (HRS) have also stressd the importance of implementing PID control when using their PrCoda methods. In the experiment PID control is the state used to run the experments , stabilizing the the clay pump tokeep the infulent turbitiy stable at 100NTU. This is especially important as it is the standardized influent turbidity that is used for the AguaClara Sedimentation tanks. Also, it must be noted that the amount of clay kept constant at 40RMP.\n",
        "\n",
        "The results of the experiment showed that not having PID control clay stock in the experiment led to an excess of clay entering the system. This in turn increased the gelling in the tube settler.In additon, the experiment also showed that there were air bubbles pumped into the tube setttler, and this is due to the lack of clay stock. During the 24 hour period, when the team was not there it is hyporthesized that the clay stock may have ran out permaturely. This however does not affec the pumps as they ran without clay stock, resulting in air being pumped into the system.The presence of air bubbles within the system is also not ideal as it decreases the efficency of sedimenation, pushing the a water- sludge mixture upwards leaving no room for it to settle. \n",
        "\n",
        "Figure 3. shows the effluent turbity KEPT Constant at a measuremnt of 95NTU for the first 3 hours. It must also be noted that the there are two drastic increasee of the turbitity at the 10th and 11th hour. As stated perviosuly, this is due the presence of air bubles in the system. \n",
        "After the 23rd hour, there is a pheomenal decrease in the effluent turbidiy to about 30NTU, and then remained there for the remained of the experiment. It is also hypothesized that if the experiment were to last a couple more hours this would have led to the decay of the floc blanket which would have led to an exponential increase in effluent turbitity. \n",
        "Lastly, it should also be noted that the turbity did not stabilze to 10NTU, which was the targeted value. This is hypothesized to be due to the lack of control of the amount of clay pumped into the system. Finally, since new pumps were used, they has been a revison of the ProCoda methods that works in harmony with the new appartus. \n",
        "\n",
        " <center>\n",
        "   <img src=\"https://raw.githubusercontent.com/AguaClara/Floc_pH/master/Baseline%20WO%20PID.png\">\n",
        " </center>\n",
        "\n",
        "\n",
        " Figure 3. The 1st baseline experiment shows the effluent turbidity over a 24 hour time period. \n"
      ]
    },
    {
      "cell_type": "markdown",
      "metadata": {
        "id": "Me12TWjY-Iys",
        "colab_type": "text"
      },
      "source": [
        "## Conclusions\n",
        "An experiment varying the pH of the water in the system has not yet been completed. The experiment that was ran was a baseline experiment that ran water through the system with clay and coagulant without varying the pH of the water. It was predicted that the system would reach steady state and the effluent turbidity would be equal to the influent turbidity. The results of this experiment do not match what was predicted. Originally, there was gelling in the floc weir which could have effected this. There were also leaks at the begining of the experiment that could have resulted in a loss of pressure in the tubing not allowing the flocs to exit the system. The main reason for the gelling in the apparatus was because of air bubbles in the system that entered through one of the stock solutions. "
      ]
    },
    {
      "cell_type": "markdown",
      "metadata": {
        "id": "uQBlaQNP-VJA",
        "colab_type": "text"
      },
      "source": [
        "## Future Work\n",
        "Describe your plan of action for the next several weeks of research. Detail the next steps for this team. How can AguaClara use what you discovered for future projects? Your suggestions for challenges for future teams are most welcome. Should research in this area continue?"
      ]
    },
    {
      "cell_type": "markdown",
      "metadata": {
        "id": "ZXUik5SH-YFM",
        "colab_type": "text"
      },
      "source": [
        "## Bibliography\n",
        "Logan, B. E., Hermanowicz, S. W., & Parker,A. S. (1987). A Fundamental Model for Trickling Filter Process Design. Journal (Water Pollution Control Federation), 59(12), 1029–1042.\n",
        "\n",
        "Lee, M., Benitez,L. (2019, April). Spring 2019 Reports. Retrieved from:\n",
        "https://github.com/AguaClara/HRS-Bot-Geo/blob/master/2019%20Spring/Reports/HRSBotGeo2FinalReportDraft.md\n",
        "\n",
        "V. Saritha, N. Srinivas, N. V. Srikanth Vuppala. (2014, May). Analysis and optimization of coagulation and flocculation process. \n",
        "\n",
        "Benitez,B., Rio,A., Reed, T.(2019,October). Floc Blanket Reports. Retrieved from:https://github.com/AguaClara/team_resources "
      ]
    },
    {
      "cell_type": "markdown",
      "metadata": {
        "id": "EvBA8kN4-dty",
        "colab_type": "text"
      },
      "source": [
        "# Manual\n",
        "The goal of this section is to provide all of the guidance that would be necessary for a future team to pick up your work where you left off. Please try to be thorough and put yourselves in the shoes of a newcomer to the project. Below are some recommended sections, but the manual will likely take a slightly different form for each team."
      ]
    },
    {
      "cell_type": "markdown",
      "metadata": {
        "id": "yfoW16_iACYt",
        "colab_type": "text"
      },
      "source": [
        "## Fabrication Details\n",
        "The Sedimentation Tank was created by first taking a long strip of PVC Pipe. This pipe was then meeasure to be about 85cm in length, Then by using a recirpocating saw, the PVC was cut to the desired amount. Next, the hold for the floc weir was drilled into the sedimentation tank (sed tank) using the drill press. Next, the sed tank was bent to  a 60 degree angle by using a hot air gun. This was done over a 2 hour period, where the gun was focused to the middle of the sed tank, where the above measurement of the tub settler was 36.12cm and the bottom measurement of the tube settler was about 48.15cm. Lasltly, the floc weir was attached to the sed tank using PVC cement. The Floc weir is a pvc pipe measured to be around 35.90cm. The measurements of the sedimentation tank were modeled from perivous sub teams, no new revisons were made.\n",
        "\n",
        "\n",
        "Include any information related to the fabrication of equipment, technologies, or experimental apparatuses, such as\n",
        "\n",
        "* materials, with dimensions\n",
        "* fabrication methods and the purpose of each step\n",
        "* complications and constraints in construction\n",
        "* revisions made to a previous design, with a reference to the report where the design is described\n",
        "* appropriate safety precautions"
      ]
    },
    {
      "cell_type": "markdown",
      "metadata": {
        "id": "sTvHso03AGO_",
        "colab_type": "text"
      },
      "source": [
        "## Special Components\n",
        "A bottom geometry is a 3-D printed piece that sits at the bottom of the tube settler in a flocculator system. The shape of the bottom geometry allows for the flocs be pushed to the top and move over into the floc weir instead of settling at the bottom of the tube settler. \n",
        "\n",
        "When the bottom geometry was first used, it would float up with the water as it was added to the system. In attempt to fix this problem, a new bottom geometry was printed using a material that is not pourous. However, the bottom geometry still floated to the top of the tube settler. Finally, tape was wrapped around the bottom of the bottom geometry to keep it in place. Though the top part of the bottom geometry was dammaged when 3-D printing, the effectiveness of it was not affected because the fluid will flow correctly through it and into the tube settler. \n",
        "  <img src=\"https://raw.githubusercontent.com/AguaClara/Floc_pH/master/Bottom%20Geometry.jpeg\" height=\"300\">\n",
        "  </center>\n",
        "  <center>\n",
        "    Figure 1. Above is a photo of the bottom geometry.\n"
      ]
    },
    {
      "cell_type": "markdown",
      "metadata": {
        "id": "loq2DmszAKf2",
        "colab_type": "text"
      },
      "source": [
        "## Experimental Methods"
      ]
    },
    {
      "cell_type": "markdown",
      "metadata": {
        "id": "Om0b4RKxAVoS",
        "colab_type": "text"
      },
      "source": [
        "### Set-up\n",
        "Step 1.\n",
        "* Put tasks in a sequential order.\n",
        "* It is okay to have sub-lists.\n",
        "  - Like this."
      ]
    },
    {
      "cell_type": "markdown",
      "metadata": {
        "id": "GOe3xI0qAdfk",
        "colab_type": "text"
      },
      "source": [
        "### Experiment\n",
        "Step 1."
      ]
    },
    {
      "cell_type": "markdown",
      "metadata": {
        "id": "cv06b20oAj1G",
        "colab_type": "text"
      },
      "source": [
        "### Cleaning Procedure\n",
        "Step 1."
      ]
    },
    {
      "cell_type": "markdown",
      "metadata": {
        "id": "CXrgSYivAoEr",
        "colab_type": "text"
      },
      "source": [
        "## Experimental Checklist\n",
        "Another potential section could include a list of things that you need to check before running an experiment.\n"
      ]
    },
    {
      "cell_type": "markdown",
      "metadata": {
        "id": "BiTsuHFrGAm5",
        "colab_type": "text"
      },
      "source": [
        "## ProCoDA Method File\n",
        "\n",
        "**Upload your ProCoDA method file to your Github repository and provide a [link]() it in your report.**\n",
        "\n",
        "Use the rest of this section to explain your method file. Your explanation can be broken up into several components as shown below:\n"
      ]
    },
    {
      "cell_type": "markdown",
      "metadata": {
        "id": "CnTgFhHEGE_f",
        "colab_type": "text"
      },
      "source": [
        "### States\n",
        "Here, you should describe the function of each state in your method file, both in terms of its overall purpose and also in terms of the details that make it distinct from other states. For example:\n",
        "\n",
        " - **OFF**: Resting state of ProCoDA. All sensors, relays, and pumps are turned off.\n"
      ]
    },
    {
      "cell_type": "markdown",
      "metadata": {
        "id": "Ks6ALZO2GH_E",
        "colab_type": "text"
      },
      "source": [
        "### Set Points\n",
        "Here, you should list the set points used in your method file and explain their use as well as how each was calculated.\n"
      ]
    },
    {
      "cell_type": "markdown",
      "metadata": {
        "id": "LaELphDxGIE-",
        "colab_type": "text"
      },
      "source": [
        "## Python Code\n",
        "\n",
        "In this section, provide any code that was a significant part of your research, including in making theoretical calculations, determining parameters for your apparatus and your experiment, or analyzing your data.\n",
        "\n",
        "If your code is repetitive (e.g. similar code for creating different graphs) or too long, you may instead provide a [link to a file](https://github.com/AguaClara/team_resources/blob/master/Example%20Code/Data%20Analysis.md) with your code that has been *uploaded to your repository*."
      ]
    },
    {
      "cell_type": "markdown",
      "metadata": {
        "id": "uNiQXErgGRg7",
        "colab_type": "text"
      },
      "source": [
        "### Code for Figure 3\n",
        "\n",
        "Provide a brief description of your code, for example:\n",
        "\n",
        "Below is the code used to create the influent and effluent turbidity graph in Figure 3, using the `aguaclara.research.procoda_parser` module to read the turbidity data from a ProCoDA data file.\n",
        "\n",
        "**Note: your code should be able to run as is in this report. That means any files you reference should have the correct directories/paths, so that anybody who downloads your repository can run the code in your report and find the same results.** For example, the code below references a ProCoDA data file in the Data folder of this repository. If that file is not present or moved to a different folder, this code will result in an error.\n",
        "\n"
      ]
    },
    {
      "cell_type": "code",
      "metadata": {
        "id": "Cq2qbVl1GpO3",
        "colab_type": "code",
        "colab": {}
      },
      "source": [
        "!pip install aguaclara"
      ],
      "execution_count": 0,
      "outputs": []
    },
    {
      "cell_type": "code",
      "metadata": {
        "id": "eEpWjBkIGjOa",
        "colab_type": "code",
        "colab": {}
      },
      "source": [
        "import aguaclara.research.procoda_parser as pp\n",
        "import matplotlib.pyplot as plt\n",
        "import numpy as np\n",
        "\n",
        "# read time, influent turbidity, and effluent turbidity columns from\n",
        "# ProCoDA data file from 6-14-2018 as NumPy arrays\n",
        "time, influent_turbidity, effluent_turbidity = pp.get_data_by_time(\n",
        "      path=\"Data\", columns=[0, 3, 4], start_date=\"6-14-2018\",\n",
        "      start_time=\"15:40\", end_time=\"23:30\")\n",
        "elapsed_time = (np.array(time)-time[0])*24\n",
        "\n",
        "# set up multiple subplots\n",
        "fig, ax1 = plt.subplots()\n",
        "# make the first subplot (Effluent Turbidity vs Time)\n",
        "ax1.set_xlabel(\"Time (hours)\")\n",
        "ax1.set_ylabel(\"Effluent Turbidity (NTU)\")\n",
        "line1, = ax1.plot(elapsed_time, effluent_turbidity, color=\"blue\")\n",
        "\n",
        "# set the x-axis of the second subplot equal to the first's\n",
        "ax2 = ax1.twinx()\n",
        "# make the second subplot (Influent Turbidity vs Time)\n",
        "ax2.set_ylabel(\"Influent Turbidity (NTU)\")\n",
        "# adjust the y-axis\n",
        "ax2.set_ylim(60,120)\n",
        "line2, = ax2.plot(elapsed_time, influent_turbidity, color=\"green\")\n",
        "\n",
        "plt.legend((line1, line2), (\"Effluent\", \"Influent\"))"
      ],
      "execution_count": 0,
      "outputs": []
    },
    {
      "cell_type": "markdown",
      "metadata": {
        "id": "2vIiWASQGvuA",
        "colab_type": "text"
      },
      "source": [
        "### Code for Experimental Design\n",
        "\n",
        "Make sure variables in your code, as well as anything that might not be easily understood by a newcomer, is well commented. Also include the outputs of your code, if applicable and not given earlier in the report.\n"
      ]
    },
    {
      "cell_type": "code",
      "metadata": {
        "id": "cVnPr9RyG7lf",
        "colab_type": "code",
        "colab": {}
      },
      "source": [
        "import aguaclara.research.peristaltic_pump as pp\n",
        "import aguaclara.research.stock_qc as stock_qc\n",
        "from aguaclara.core.units import unit_registry as u\n",
        "\n",
        "# volume per revolution flowing from the pump for PACl (coagulant) stock\n",
        "vol_per_rev_PACl = pp.vol_per_rev_3_stop(\"yellow-blue\")\n",
        "# revolutions per minute of PACl stock pump\n",
        "rpm_PACl = 3 * u.rev/u.min\n",
        "# flow rate from the PACl stock pump\n",
        "Q_PACl = pp.flow_rate(vol_per_rev_PACl, rpm_PACl)\n",
        "\n",
        "\n",
        "# desired system flow rate\n",
        "Q_sys = 2 * u.mL/u.s\n",
        "# desired system concentration of PACl\n",
        "C_sys = 1.4 * u.mg/u.L\n",
        "# a variable representing the reactor and its parameters\n",
        "reactor = stock_qc.Variable_C_Stock(Q_sys, C_sys, Q_PACl)\n",
        "\n",
        "\n",
        "# required concentration of PACl stock\n",
        "C_stock_PACl = reactor.C_stock()\n",
        "# concentration of purchased PACl super stock in lab\n",
        "C_super_PACl = 70.28 * u.g/u.L\n",
        "# dilution factor of PACl super stock necessary to achieve PACl stock\n",
        "# concentration (in L of super stock per L water)\n",
        "dilution = reactor.dilution_factor(C_super_PACl)\n",
        "mL_per_L = dilution * 1000\n",
        "\n",
        "print(\"A reactor with a system flow rate of\", Q_sys, \",\")\n",
        "print(\"a system PACl concentration of\", C_sys, \",\")\n",
        "print(\"and a PACl stock flow rate of\", Q_PACl)\n",
        "print(\"will require a dilution factor of\", round(mL_per_L.magnitude, 3),\n",
        "  \"milliliters of PACl super\")\n",
        "print(\"stock per liter of water for the PACl stock.\")"
      ],
      "execution_count": 0,
      "outputs": []
    }
  ]
}