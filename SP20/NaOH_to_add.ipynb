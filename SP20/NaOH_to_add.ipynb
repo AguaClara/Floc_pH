{
  "nbformat": 4,
  "nbformat_minor": 0,
  "metadata": {
    "colab": {
      "name": "NaOH to add",
      "provenance": [],
      "collapsed_sections": [],
      "include_colab_link": true
    },
    "kernelspec": {
      "name": "python3",
      "display_name": "Python 3"
    }
  },
  "cells": [
    {
      "cell_type": "markdown",
      "metadata": {
        "id": "view-in-github",
        "colab_type": "text"
      },
      "source": [
        "<a href=\"https://colab.research.google.com/github/AguaClara/Floc_pH/blob/master/NaOH_to_add.ipynb\" target=\"_parent\"><img src=\"https://colab.research.google.com/assets/colab-badge.svg\" alt=\"Open In Colab\"/></a>"
      ]
    },
    {
      "cell_type": "code",
      "metadata": {
        "id": "ozIMa0S-F4Wf",
        "colab_type": "code",
        "outputId": "b605b4e6-f9ab-460a-afe9-46a54603a042",
        "colab": {
          "base_uri": "https://localhost:8080/",
          "height": 70
        }
      },
      "source": [
        "from aguaclara.core.units import unit_registry as u\n",
        "import aguaclara.research.environmental_processes_analysis as epa\n",
        "import numpy as np\n",
        "import matplotlib.pyplot as plt\n",
        "import pandas as pd\n",
        "\n",
        "\"\"\"define molecular weights\"\"\"\n",
        "m_O = 15.999*u.g/u.mol\n",
        "m_Na = 22.99*u.g/u.mol\n",
        "m_H = 1.008*u.g/u.mol\n",
        "m_NaOH = m_Na+m_O+m_H\n",
        "\n",
        "\"\"\"Raw water characteristics\"\"\"\n",
        "pH_0 = .5*(6.451398+6.704374)\n",
        "ANC_0 = ((.5*(3.104+3.028)) * u.mg/u.L/m_NaOH).to(u.mmol/u.L)\n",
        "\n",
        "def total_carbonates_closed(pH, ANC):\n",
        "    \"\"\"This function calculates total carbonates for a closed system given pH and ANC\n",
        "\n",
        "    Parameters\n",
        "    ----------\n",
        "    pH : float\n",
        "        pH of the sample\n",
        "    ANC: float\n",
        "        acid neutralizing capacity of the sample\n",
        "    Returns\n",
        "    -------\n",
        "    The total carbonates of the sample\n",
        "    Examples\n",
        "    --------\n",
        "    >>> total_carbonates_closed(1*u.mmol/u.L,8)\n",
        "    1.017 mole/liter\n",
        "    \"\"\"\n",
        "    return (ANC - epa.Kw/epa.invpH(pH) + epa.invpH(pH)) / (epa.alpha1_carbonate(pH) + 2 * epa.alpha2_carbonate(pH))\n",
        "\n",
        "\n",
        "CT_0 = total_carbonates_closed(pH_0,ANC_0)\n",
        "\n",
        "def pH_adjust(pH_0,ANC_0,Pi_base,Pi_CO3,Pi_Al,C_Al,pH_target):\n",
        "  \"\"\"This function calculates the required base (or acid) to adjust the pH to a target value. The buffering capacity is assumed to be completely due to carbonate species. The initial carbonate concentration is calculated based on the initial pH and the initial ANC.\n",
        "\n",
        "  Parameters\n",
        "  ----------\n",
        "  pH_0: float\n",
        "      pH of the sample\n",
        "  ANC_0: float\n",
        "      acid neutralizing capacity (Alkalinity) of the sample in eq/L.\n",
        "  Pi_base: float\n",
        "    equivalents of ANC per mole of base (or acid)\n",
        "  Pi_CO3: float\n",
        "    mole of carbonate per mole of base (or acid)\n",
        "  Pi_Al : float\n",
        "    equivalents of ANC per mole of aluminum coagulant\n",
        "  C_Al\n",
        "    concentration of aluminum coagulant in moles/L\n",
        "  pH_target: float\n",
        "    pH goal\n",
        "  Returns\n",
        "  -------\n",
        "  The required concentration of base (or acid) in millimoles/L\n",
        "  Examples\n",
        "  --------\n",
        "  >>> pH_adjust(5.91,0.2*u.mmol/u.L,1,1,0,0,7)\n",
        "  2.2892822041250924 millimole/liter\n",
        "  >>> pH_adjust(7,0.2*u.mmol/u.L,1,1,0,0,0,0,7)\n",
        "  0.0 millimole/liter\n",
        "  >>> pH_adjust(7,0*u.mmol/u.L,1,0,-3,1*u.mmol/u.L,7)\n",
        "  3.0 millimole/liter\n",
        "  \"\"\"\n",
        "  CT_0 = total_carbonates_closed(pH_0,ANC_0)\n",
        "  B_num = CT_0 * (epa.alpha1_carbonate(pH_target) + 2 * epa.alpha2_carbonate(pH_target)) + epa.Kw/epa.invpH(pH_target) - epa.invpH(pH_target) - ANC_0 - Pi_Al*C_Al\n",
        "  B_den = Pi_base - Pi_CO3*(epa.alpha1_carbonate(pH_target) + 2 * epa.alpha2_carbonate(pH_target))\n",
        "  return (B_num/B_den).to(u.mmol/u.L)\n",
        "\n",
        "  \"\"\"target pH\"\"\"\n",
        "pH_targets = np.arange(1,10,dtype=float)\n",
        "\n",
        "Pi_base_NaOH = 1\n",
        "Pi_CO3_NaOH = 0\n",
        "\n",
        "C_NaOHs = [pH_adjust(pH_0,ANC_0,Pi_base_NaOH,Pi_CO3_NaOH,0,0,pH_target) for pH_target in pH_targets]\n",
        "\n",
        "\"\"\"Display results in a pandas table\"\"\"\n",
        "target = np.asarray(pH_targets,dtype=str)\n",
        "myindex = [\"[mmoles/L]\",\"[mg/L]\"]\n",
        "row1 = [C_NaOH.magnitude for C_NaOH in C_NaOHs]\n",
        "row2 = [(C_NaOH*m_NaOH).to(u.mg/u.L).magnitude for C_NaOH in C_NaOHs]\n",
        "df = pd.DataFrame([row1,row2],index=myindex,columns=target)\n",
        "print(df.round(3))\n",
        "\n",
        "# Maybe take the negative value of mmol/L NaOH --> add that many moles of HCl to get acidic pHs"
      ],
      "execution_count": 12,
      "outputs": [
        {
          "output_type": "stream",
          "text": [
            "              1.0    2.0    3.0    4.0    5.0    6.0   7.0   8.0   9.0\n",
            "[mmoles/L] -100.1 -10.08 -1.077 -0.176 -0.082  -0.04 0.024 0.047 0.064\n",
            "[mg/L]     -4,003   -403 -43.06 -7.045 -3.262 -1.617  0.97 1.866 2.566\n"
          ],
          "name": "stdout"
        }
      ]
    },
    {
      "cell_type": "code",
      "metadata": {
        "id": "OBvg96h0sKDn",
        "colab_type": "code",
        "colab": {}
      },
      "source": [
        ""
      ],
      "execution_count": 0,
      "outputs": []
    }
  ]
}
