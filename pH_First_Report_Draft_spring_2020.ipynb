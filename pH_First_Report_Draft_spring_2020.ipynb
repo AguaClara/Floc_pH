{
  "nbformat": 4,
  "nbformat_minor": 0,
  "metadata": {
    "colab": {
      "name": "pH First Report Draft- spring 2020",
      "provenance": [],
      "authorship_tag": "ABX9TyNb+OUPv/8O40Mwn3BObucV",
      "include_colab_link": true
    },
    "kernelspec": {
      "name": "python3",
      "display_name": "Python 3"
    }
  },
  "cells": [
    {
      "cell_type": "markdown",
      "metadata": {
        "id": "view-in-github",
        "colab_type": "text"
      },
      "source": [
        "<a href=\"https://colab.research.google.com/github/AguaClara/Floc_pH/blob/master/pH_First_Report_Draft_spring_2020.ipynb\" target=\"_parent\"><img src=\"https://colab.research.google.com/assets/colab-badge.svg\" alt=\"Open In Colab\"/></a>"
      ]
    },
    {
      "cell_type": "markdown",
      "metadata": {
        "id": "VdkdCRhWJe6l",
        "colab_type": "text"
      },
      "source": [
        "#**Unit Process Analysis pH, Spring 2020**\n",
        "\n",
        "######**Malini Balachandran, Justin Lee, Sarah Paquin, Sanjana Uddin**\n",
        "\n",
        "######**March 6, 2020**\n",
        "\n",
        "##**Abstract**\n",
        "Filtration within the sedimentation tank is complex and costly. Therefore, the Unit Process Operations subteams explored the effects of varying two possible factors behind the performance of the sedimentation tank in isolation: pH and coagulant dosage. By varying these two factors individually, the subteams simplified the problem and hoped to discover a set of sedimentation tank operation parameters that would maximize the performance, or particle filtration efficiency, reduce operating costs, and reduce capital costs. The Unit Process Operations pH subteam explored the performance of a sedimentation tank as a function solely of pH, i.e. keeping the floc blanket depth and coagulant dosage constant. The team operated with a small scale sedimentation tank to explore how performance changes when varying pH in hopes of unraveling the complexities of sedimentation tank filtration.\n",
        "\n",
        "##**Introduction**\n",
        "The defining factors of the performance of the sedimentation tank are difficult to determine when all factors are considered in parallel because a slight variation in each parameter could lead to drastically different results and unexpected behavior. Moreover, a lack or excess of one parameter could lead to unsafe drinking water. This was the motivation for developing the subteams that explored the performance of the sedimentation tank as a function solely of each possible parameter. By understanding how the performance varied from changing each parameter, the subteams can provide insight for a possibly optimal combination of the two parameters for the plant scale sedimentation tank.\n",
        "\n",
        "The coating of the pH probe poses a challenge for both the experiment and filtration plants. The pH probe will be coated with coagulant after some threshold coagulant dosage, leading to inaccurate pH measurements. Since different operating points are used for different pHs, precise measurement of the system pH is crucial to maintaining the quality of the treated water. Moreover, the coagulant itself undergoes acid/base reactions with the solution. As a result, the threshold coagulant dosage is also a function of pH, further complicating the experiment.\n",
        "\n",
        "To address the the coagulant coating, the coagulant dosage threshold was determined for the pHs of interest. With the collected thresholds, the steady state performance of the model sedimentation tank was optimized with respect to pH while maintaining a coagulant dosage below the determined thresholds and a floc blanket depth similar to the other Unit Process Analysis subteams. System data was collected throughout the duration of the experiment to determine the feasibility of the given operating parameters. The contaminant of interest was clay.\n",
        "\n",
        "##**Literature Review and Previous Work**\n",
        "\n",
        "This particular experiment has never been done by any AguaClara subteam. However, the other Unit Process Operations subteam used a similar setup while solely varying coagulant dosage.\n",
        "\n",
        "Previous work provides a general pH range and bottom geometry design for the experiment. Optimal pH conditions for the flocculation process were determined to be around 6, 7 and 8**3**. These values were for optimal coagulant dosages. The most optimal angles for the sides of the bottom geometry were found to be 58 and 78 degrees**2**. For this particular experiment, a 58 degree angle was used for the bottom geometry side walls.\n",
        "\n",
        "Last semester, the lab apparatus was constructed, and a baseline control experiment was done. This trial had issues with gelling in the sedimentation tube, air bubbles, leaks,and pressure, so these are problems we anticipate having to deal with this semester.\n",
        "\n",
        "##**Initial Results**\n",
        "\n",
        "We measured the Acid Neutralizing Capacity (ANC) and Base Neutralizing Capacity (BNC) of the water that will be flowing through the system. To determine the ANC, we used 0.05 N HCl, and followed the procedure [here](https://monroews.github.io/EnvEngLabTextbook/ProCoDA/ProCoDA.html#heading-procoda-gran-plot). To determine the BNC, we used 0.05 N NaOH, and followed the analogous procedure. A component of the procedure that we found was important for accurate results was reducing the volume of titrant added as the pH started to change more rapidly. The results are summarized as follows:\n",
        "\n",
        "#**<font color='red'>JUSTIN INSERT TABLE HERE**"
      ]
    }
  ]
}